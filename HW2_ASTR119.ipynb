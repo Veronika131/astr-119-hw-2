{
 "cells": [
  {
   "cell_type": "code",
   "execution_count": null,
   "metadata": {},
   "outputs": [],
   "source": [
    "%matplotlib inline\n",
    "import numpy as np\n",
    "import matplotlib.pyplot as plt"
   ]
  },
  {
   "cell_type": "code",
   "execution_count": null,
   "metadata": {},
   "outputs": [],
   "source": [
    "x = np.linspace(0,2*np.pi,1000)   #create x=[0....2*pi] in inclusive with 1000 values\n",
    "plt.xlim(0,2*np.pi)               #x range [-1,10]\n",
    "plt.ylim(-1,10)                   #y range [-1,10]\n",
    "\n",
    "y = 5.5*np.cos(2*x)+5.5           #function a.)\n",
    "plt.plot(x,y)\n",
    "y = 0.02*np.exp(x)                #function b.)\n",
    "plt.plot(x,y)\n",
    "y = 0.25 * x**2 + 0.1 * np.sin(10*x)   #function c.)\n",
    "plt.plot(x,y)\n",
    "\n",
    "plt.xlabel('Time in ASTR / EART 119')\n",
    "plt.ylabel('Measures of Awesomeness')\n",
    "plt.show()                       #show the plot on the screen"
   ]
  }
 ],
 "metadata": {
  "kernelspec": {
   "display_name": "Python 3",
   "language": "python",
   "name": "python3"
  },
  "language_info": {
   "codemirror_mode": {
    "name": "ipython",
    "version": 3
   },
   "file_extension": ".py",
   "mimetype": "text/x-python",
   "name": "python",
   "nbconvert_exporter": "python",
   "pygments_lexer": "ipython3",
   "version": "3.7.0"
  }
 },
 "nbformat": 4,
 "nbformat_minor": 2
}
